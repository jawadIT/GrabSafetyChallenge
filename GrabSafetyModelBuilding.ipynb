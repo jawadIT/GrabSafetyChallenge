{
 "cells": [
  {
   "cell_type": "code",
   "execution_count": 1,
   "metadata": {},
   "outputs": [],
   "source": [
    "#import necessary libraries and set up pyspark environment\n",
    "import sys,os,glob,math\n",
    "import pandas as pd\n",
    "os.environ[\"PYSPARK_PYTHON\"] = \"C:/Users/z001133/AppData/Local/Continuum/anaconda3/python.exe\"\n",
    "os.environ[\"SPARK_HOME\"] = \"D:/Public/spark\"\n",
    "os.environ[\"PYLIB\"] = os.environ[\"SPARK_HOME\"] + \"/python/lib\"\n",
    "sys.path.insert(0, os.environ[\"PYLIB\"] +\"/py4j-0.10.7-src.zip\")\n",
    "sys.path.insert(0, os.environ[\"PYLIB\"] +\"/pyspark.zip\")\n",
    "from pyspark.sql import SparkSession, SQLContext\n",
    "spark = SparkSession.builder.appName(\"GrabChallengeSafety\").master(\"local[*]\").config('spark.executor.memory','20G').config('spark.driver.memory','10G').getOrCreate()"
   ]
  },
  {
   "cell_type": "code",
   "execution_count": 2,
   "metadata": {},
   "outputs": [
    {
     "name": "stderr",
     "output_type": "stream",
     "text": [
      "C:\\Users\\z001133\\AppData\\Local\\Continuum\\anaconda3\\lib\\site-packages\\sklearn\\cross_validation.py:41: DeprecationWarning: This module was deprecated in version 0.18 in favor of the model_selection module into which all the refactored classes and functions are moved. Also note that the interface of the new CV iterators are different from that of this module. This module will be removed in 0.20.\n",
      "  \"This module will be removed in 0.20.\", DeprecationWarning)\n"
     ]
    }
   ],
   "source": [
    "#import classification ML libraries from pyspark.ml\n",
    "from pyspark.ml import Pipeline, PipelineModel\n",
    "from pyspark.ml.feature import StandardScaler, StringIndexer, VectorAssembler\n",
    "from pyspark.ml.classification import LogisticRegression,LogisticRegressionModel,DecisionTreeClassifier,\\\n",
    "    DecisionTreeClassificationModel,RandomForestClassifier,GBTClassifier,NaiveBayes, NaiveBayesModel\n",
    "from pyspark.ml.evaluation import MulticlassClassificationEvaluator\n",
    "from sklearn.cross_validation import train_test_split\n",
    "import xgboost as xgb\n",
    "from xgboost import XGBClassifier"
   ]
  },
  {
   "cell_type": "code",
   "execution_count": 3,
   "metadata": {},
   "outputs": [
    {
     "name": "stdout",
     "output_type": "stream",
     "text": [
      "part-00000-bde078b0-f39b-4de5-bef9-12ab14e0b2c2-c000.csv\n"
     ]
    }
   ],
   "source": [
    "#get the preprocessed data in .csv file to a dataframe\n",
    "os.chdir('C:\\\\Users\\\\z001133\\\\IdeaProjects\\\\pyLearning\\\\data\\\\for_model')\n",
    "df_01 = pd.DataFrame()\n",
    "for file in glob.glob(\"*.csv\"):\n",
    "    print(file)\n",
    "    df_00 = pd.read_csv(file)\n",
    "    df_01 = df_01.append(df_00,ignore_index=True)\n",
    "    del df_00\n",
    "df_02 = spark.createDataFrame(df_01)\n",
    "del df_01\n",
    "(trainingData, testData) = df_02.randomSplit([0.90, 0.10], seed = 100)"
   ]
  },
  {
   "cell_type": "code",
   "execution_count": 4,
   "metadata": {},
   "outputs": [],
   "source": [
    "#build spark stages for model building pipeline\n",
    "def build_model_pipeline(algo):\n",
    "    safety_stringIdx = [StringIndexer(inputCol=\"label\",outputCol=\"class\",handleInvalid=\"skip\")]\n",
    "    assembler = [VectorAssembler(inputCols=[\"bearing\",\"change_in_accuracy\",\"change_in_bearing\",\"change_in_speed\",\n",
    "                                            \"degreesZ\",\"speed\",\"acc_magn\",\"time_per_turn\",\"distance_per_turn\",\"no_of_turns\",\n",
    "                                            \"change_in_dist\",\"change_in_accelaration\",\"total_ditance\",\"change_in_gyro\",\n",
    "                                            \"accuracy\",\"total_time\"\n",
    "                                            ], outputCol=\"features\")]\n",
    "    if algo == 'log':\n",
    "        mlalgo = [build_logistic()]\n",
    "    else:\n",
    "        if algo == 'decisiontree':\n",
    "            mlalgo = [DecisionTreeClassifier(labelCol=\"class\",featuresCol=\"features\",maxBins=405)]\n",
    "        else:\n",
    "            if algo == \"randomforest\":\n",
    "                mlalgo = [RandomForestClassifier(labelCol=\"class\",featuresCol=\"features\",numTrees=10)]\n",
    "            else:\n",
    "                if algo == \"gbt\":\n",
    "                    mlalgo = [GBTClassifier(labelCol=\"class\", featuresCol=\"features\", maxIter=10)]\n",
    "                else:\n",
    "                    if algo == \"nbayes\":\n",
    "                        mlalgo = [build_naive_bayes()]\n",
    "                    else:\n",
    "                        if algo == \"xgb\":\n",
    "                            mlalgo = [build_xgboost_classifier()]\n",
    "                        else:\n",
    "                            mlalgo = [RandomForestClassifier(labelCol=\"class\",featuresCol=\"features\",numTrees=10)]\n",
    "                            \n",
    "    return Pipeline(stages= safety_stringIdx + assembler + mlalgo)"
   ]
  },
  {
   "cell_type": "code",
   "execution_count": 5,
   "metadata": {},
   "outputs": [],
   "source": [
    "#function to predict the classification and its confidence level by probability value\n",
    "def accur(model,filenm,df):\n",
    "    preds = model.transform(df)\n",
    "    accuracy = preds.filter(preds.label == preds.prediction).count() / float(preds.count())\n",
    "    evaluator = MulticlassClassificationEvaluator(predictionCol=\"prediction\")\n",
    "    roc_auc = evaluator.evaluate(preds)\n",
    "    preds.orderBy(\"probability\", ascending=False) \\\n",
    "        .toPandas() \\\n",
    "        .to_csv(\"C:\\\\Users\\\\z001133\\\\IdeaProjects\\\\pyLearning\\\\data\\\\result\" + \"\\\\\" + filenm + \".csv\")\n",
    "    print(\"Accuracy Score: {0:.4f}\".format(accuracy))\n",
    "    print(\"ROC-AUC: {0:.4f}\".format(roc_auc))\n",
    "    return"
   ]
  },
  {
   "cell_type": "code",
   "execution_count": 6,
   "metadata": {},
   "outputs": [],
   "source": [
    "#function to define logistics regression\n",
    "def build_logistic():\n",
    "    return LogisticRegression(maxIter=100, regParam=0.3, elasticNetParam=0, family=binomial)"
   ]
  },
  {
   "cell_type": "code",
   "execution_count": 9,
   "metadata": {},
   "outputs": [
    {
     "name": "stdout",
     "output_type": "stream",
     "text": [
      "Accuracy Score: 0.7578\n",
      "ROC-AUC: 0.6667\n"
     ]
    }
   ],
   "source": [
    "#building logistic regression classification model\n",
    "model = build_model_pipeline(\"log\").fit(trainingData)\n",
    "test_result = \"log_model_result\"\n",
    "accur(model,test_result,testData)\n",
    "PicklePath = \"C:\\\\Users\\\\z001133\\\\IdeaProjects\\\\pyLearning\\\\model\\\\log\\\\log_model.pkl\"\n",
    "model.save(PicklePath)"
   ]
  },
  {
   "cell_type": "code",
   "execution_count": 10,
   "metadata": {},
   "outputs": [
    {
     "name": "stdout",
     "output_type": "stream",
     "text": [
      "Accuracy Score: 0.7752\n",
      "ROC-AUC: 0.7125\n"
     ]
    }
   ],
   "source": [
    "#building decision tree classification model\n",
    "model = build_model_pipeline(\"decisiontree\").fit(trainingData)\n",
    "test_result = \"dt_model_result\"\n",
    "accur(model,test_result,testData)\n",
    "PicklePath = \"C:\\\\Users\\\\z001133\\\\IdeaProjects\\\\pyLearning\\\\model\\\\dt\\\\dt_model.pkl\"\n",
    "model.save(PicklePath)"
   ]
  },
  {
   "cell_type": "code",
   "execution_count": 11,
   "metadata": {},
   "outputs": [
    {
     "name": "stdout",
     "output_type": "stream",
     "text": [
      "Accuracy Score: 0.7726\n",
      "ROC-AUC: 0.7101\n"
     ]
    }
   ],
   "source": [
    "#building random forest classification model\n",
    "model = build_model_pipeline(\"randomforest\").fit(trainingData)\n",
    "test_result = \"rf_model_result\"\n",
    "accur(model,test_result,testData)\n",
    "PicklePath = \"C:\\\\Users\\\\z001133\\\\IdeaProjects\\\\pyLearning\\\\model\\\\rf\\\\rf_model.pkl\"\n",
    "model.save(PicklePath)"
   ]
  },
  {
   "cell_type": "code",
   "execution_count": 12,
   "metadata": {},
   "outputs": [
    {
     "name": "stdout",
     "output_type": "stream",
     "text": [
      "Accuracy Score: 0.7731\n",
      "ROC-AUC: 0.7160\n"
     ]
    }
   ],
   "source": [
    "#building gradient boost classification model\n",
    "model = build_model_pipeline(\"gbt\").fit(trainingData)\n",
    "test_result = \"gbt_model_result\"\n",
    "accur(model,test_result,testData)\n",
    "PicklePath = \"C:\\\\Users\\\\z001133\\\\IdeaProjects\\\\pyLearning\\\\model\\\\gbt\\\\gbt_model.pkl\"\n",
    "model.save(PicklePath)"
   ]
  }
 ],
 "metadata": {
  "kernelspec": {
   "display_name": "Python 3",
   "language": "python",
   "name": "python3"
  },
  "language_info": {
   "codemirror_mode": {
    "name": "ipython",
    "version": 3
   },
   "file_extension": ".py",
   "mimetype": "text/x-python",
   "name": "python",
   "nbconvert_exporter": "python",
   "pygments_lexer": "ipython3",
   "version": "3.6.5"
  }
 },
 "nbformat": 4,
 "nbformat_minor": 2
}
